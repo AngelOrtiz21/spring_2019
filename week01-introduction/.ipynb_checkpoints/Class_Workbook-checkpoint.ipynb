{
 "cells": [
  {
   "cell_type": "markdown",
   "metadata": {},
   "source": [
    "## Class Workbook: Week One\n",
    "\n",
    "Let's dive in and get familiar with Python! We will be using Python 3.6 throughout the course.\n",
    "\n",
    "Right now, we're using Jupyter Notebook, a browser-based interactive environment that lets you execute \"cells\" or blocks of code in chunks. Any variables you assign will persist across diffrent cells. You can also make certain cells 'Markdown' cells that contain text, such as this one.\n",
    "\n",
    "To execute a block of code, hit \"shift\" and \"enter\"\n",
    "\n",
    "Below is a print function, where we can print a statement. Try it out!"
   ]
  },
  {
   "cell_type": "code",
   "execution_count": 1,
   "metadata": {},
   "outputs": [
    {
     "name": "stdout",
     "output_type": "stream",
     "text": [
      "Here is my first line of Python code!\n"
     ]
    }
   ],
   "source": [
    "print('Here is my first line of Python code!')"
   ]
  },
  {
   "cell_type": "markdown",
   "metadata": {},
   "source": [
    "Note that in Jupyter Notebook you can return a value without formally printing it, like below"
   ]
  },
  {
   "cell_type": "code",
   "execution_count": 2,
   "metadata": {},
   "outputs": [
    {
     "data": {
      "text/plain": [
       "'Here is my second line of Python code!'"
      ]
     },
     "execution_count": 2,
     "metadata": {},
     "output_type": "execute_result"
    }
   ],
   "source": [
    "'Here is my second line of Python code!'"
   ]
  },
  {
   "cell_type": "markdown",
   "metadata": {},
   "source": [
    "We can also define variables as strings or integers, among many other things. Variables defined in one cell will persist across the notebook until you redefine them."
   ]
  },
  {
   "cell_type": "code",
   "execution_count": 3,
   "metadata": {},
   "outputs": [
    {
     "name": "stdout",
     "output_type": "stream",
     "text": [
      "Here is my first variable: 3\n",
      "Now the variable has changed: 5\n"
     ]
    }
   ],
   "source": [
    "a = 3\n",
    "print('Here is my first variable:', a)\n",
    "a = 5\n",
    "print('Now the variable has changed:', a)"
   ]
  },
  {
   "cell_type": "markdown",
   "metadata": {},
   "source": [
    "We'll be working with a few core packages throughout the course, which you can import as such below."
   ]
  },
  {
   "cell_type": "code",
   "execution_count": 4,
   "metadata": {
    "collapsed": true
   },
   "outputs": [],
   "source": [
    "import random\n",
    "import numpy as np\n",
    "import pandas as pd\n",
    "import matplotlib.pyplot as plt\n",
    "import scipy.stats as stats\n",
    "import seaborn as sns\n",
    "%matplotlib inline"
   ]
  },
  {
   "cell_type": "markdown",
   "metadata": {},
   "source": [
    "You can then cite these packages by name in your code. We'll obviously cover this in much more detail, but here are some brief examples."
   ]
  },
  {
   "cell_type": "code",
   "execution_count": 5,
   "metadata": {},
   "outputs": [
    {
     "name": "stdout",
     "output_type": "stream",
     "text": [
      "Pick a random number between 1 and 100: 55\n",
      "Create a Numpy Array: [1 2 3 4 5]\n",
      "Retrieve the Number One Singles of 2019\n"
     ]
    },
    {
     "data": {
      "text/html": [
       "<div>\n",
       "<style scoped>\n",
       "    .dataframe tbody tr th:only-of-type {\n",
       "        vertical-align: middle;\n",
       "    }\n",
       "\n",
       "    .dataframe tbody tr th {\n",
       "        vertical-align: top;\n",
       "    }\n",
       "\n",
       "    .dataframe thead th {\n",
       "        text-align: right;\n",
       "    }\n",
       "</style>\n",
       "<table border=\"1\" class=\"dataframe\">\n",
       "  <thead>\n",
       "    <tr style=\"text-align: right;\">\n",
       "      <th></th>\n",
       "      <th>Issue date</th>\n",
       "      <th>Song</th>\n",
       "      <th>Artist(s)</th>\n",
       "      <th>Ref.</th>\n",
       "    </tr>\n",
       "  </thead>\n",
       "  <tbody>\n",
       "    <tr>\n",
       "      <th>0</th>\n",
       "      <td>January 5</td>\n",
       "      <td>\"Thank U, Next\"</td>\n",
       "      <td>Ariana Grande</td>\n",
       "      <td>[1]</td>\n",
       "    </tr>\n",
       "    <tr>\n",
       "      <th>1</th>\n",
       "      <td>January 12</td>\n",
       "      <td>\"Without Me\"</td>\n",
       "      <td>Halsey</td>\n",
       "      <td>[2]</td>\n",
       "    </tr>\n",
       "    <tr>\n",
       "      <th>2</th>\n",
       "      <td>January 19</td>\n",
       "      <td>\"Sunflower\"</td>\n",
       "      <td>Post Malone and Swae Lee</td>\n",
       "      <td>[3]</td>\n",
       "    </tr>\n",
       "    <tr>\n",
       "      <th>3</th>\n",
       "      <td>January 26</td>\n",
       "      <td>\"Without Me\"</td>\n",
       "      <td>Halsey</td>\n",
       "      <td>[4]</td>\n",
       "    </tr>\n",
       "    <tr>\n",
       "      <th>4</th>\n",
       "      <td>February 2</td>\n",
       "      <td>\"7 Rings\"</td>\n",
       "      <td>Ariana Grande</td>\n",
       "      <td>[5]</td>\n",
       "    </tr>\n",
       "  </tbody>\n",
       "</table>\n",
       "</div>"
      ],
      "text/plain": [
       "   Issue date             Song                 Artist(s) Ref.\n",
       "0   January 5  \"Thank U, Next\"             Ariana Grande  [1]\n",
       "1  January 12     \"Without Me\"                    Halsey  [2]\n",
       "2  January 19      \"Sunflower\"  Post Malone and Swae Lee  [3]\n",
       "3  January 26     \"Without Me\"                    Halsey  [4]\n",
       "4  February 2        \"7 Rings\"             Ariana Grande  [5]"
      ]
     },
     "execution_count": 5,
     "metadata": {},
     "output_type": "execute_result"
    }
   ],
   "source": [
    "print('Pick a random number between 1 and 100:', random.randint(1, 100))\n",
    "print('Create a Numpy Array:', np.array([1,2,3,4,5]))\n",
    "print('Retrieve the Number One Singles of 2019')\n",
    "pd.read_html('https://en.wikipedia.org/wiki/List_of_Billboard_Hot_100_number-one_singles_of_2019', header=0)[0]"
   ]
  },
  {
   "cell_type": "markdown",
   "metadata": {},
   "source": [
    "## A bit about these packages\n",
    "\n",
    "The **random** and **stats** packages will be most useful for the probability section of the course, where we will learn about distributions and even simulate distributions with them.\n",
    "\n",
    "We will start using **numpy** and **pandas** packages next week for data exploration. Numpy is an extremely powerful package for storing data arrays, so much so that it actually powers **pandas**. **Pandas** helps you explore data by working with dataframes, similar to a SQL database or even an Excel spreadsheet.\n",
    "\n",
    "The **matplotlib** and **seaborn** packages are for data visualization.\n",
    "\n",
    "## More on Jupyter Notebook\n",
    "\n",
    "#### Change from Code to Markdown\n",
    "\n",
    "In the dropdown menu above, you can change from code to markdown or vice versa for the given cell you're in.\n",
    "\n",
    "#### Edit Mode and Command Mode\n",
    "\n",
    "There are two 'modes' to Jupyter: edit mode and command mode. When you are in edit mode, the bar to the left will be green, and you can actively type in the cell; the keyboard will act as normal. When you are in command mode, the bar to the left will be blue. Note that when you are in command mode you can press up or down to move between cells.\n",
    "\n",
    "\n",
    "#### Adding/Deleting Cells\n",
    "\n",
    "When you are in command mode, you can delete the cell you are currently in by pressing DD (capitalized). To undo a deleted cell, press Z while in command mode. To create a new cell above your current cell by pressing A (capitalized). Or, you can create a new cell *below* your current cell by pressing B (capitalized). To undo \n",
    "\n",
    "#### Exporting Your File:\n",
    "\n",
    "On the upper left, note that you can go to 'Download as' and download the notebook as an 'ipynb' file. When you submit your homework to me this week, please email me the ipynb file you downloaded.\n",
    "\n",
    "Also please note that you are not restricted to the workbooks that are in this repository! You can create a new workbook, import any of the above packages you need, and go from there.\n",
    "\n",
    "## Using Binder\n",
    "\n",
    "I chose Binder for this course because it requires the least amount of setup - all you need to do is click a link and an interactive environment with everything you need will be loaded within seconds. That said - it certainly has its limitations:\n",
    "\n",
    "1) A notebook will only last 12 hours in total, and may timeout after 10 minutes of 'inactivity'. Binder is a playground to test around code with, but I would store any answers or anything you plan on submitting elsewhere while you're working on it. **SAVE OFTEN, BE OCD ABOUT HITTING CTRL + S**\n",
    "\n",
    "2) Binder has a limit of 1 - 2 GB of RAM for a given notebook. We should not come anything close to that since we'll be working on relatively small datasets, but it's something to keep in mind.\n",
    "\n",
    "3) If you want to work on something, save it, and work on it later, you can download your file and then upload it later on a new Binder instance. This is a bit primitive, but failsafe.\n",
    "\n",
    "While you can also download Python onto your machine (instructions will be in this week's homework) and work that way, I'm sure there will be issues that come up given the different types of machines and operating systems people have. Fundamentally you should be able to complete this course using just Binder."
   ]
  },
  {
   "cell_type": "code",
   "execution_count": null,
   "metadata": {
    "collapsed": true
   },
   "outputs": [],
   "source": []
  }
 ],
 "metadata": {
  "kernelspec": {
   "display_name": "Python 3",
   "language": "python",
   "name": "python3"
  },
  "language_info": {
   "codemirror_mode": {
    "name": "ipython",
    "version": 3
   },
   "file_extension": ".py",
   "mimetype": "text/x-python",
   "name": "python",
   "nbconvert_exporter": "python",
   "pygments_lexer": "ipython3",
   "version": "3.6.3"
  }
 },
 "nbformat": 4,
 "nbformat_minor": 2
}
