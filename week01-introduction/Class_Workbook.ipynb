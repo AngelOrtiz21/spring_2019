{
 "cells": [
  {
   "cell_type": "markdown",
   "metadata": {},
   "source": [
    "## Class Workbook: Week One\n",
    "\n",
    "Let's dive in and get familiar with Python! We will be using Python 3.6 throughout the course.\n",
    "\n",
    "Right now, we're using Jupyter Notebook, a browser-based interactive environment that lets you execute \"cells\" or blocks of code in chunks. Any variables you assign will persist across diffrent cells. You can also make certain cells 'Markdown' cells that contain text, such as this one.\n",
    "\n",
    "To execute a block of code, hit \"shift\" and \"enter\"\n",
    "\n",
    "Below is a print function, where we can print a statement."
   ]
  },
  {
   "cell_type": "code",
   "execution_count": null,
   "metadata": {},
   "outputs": [],
   "source": [
    "print('Here is my first line of Python code!')"
   ]
  },
  {
   "cell_type": "markdown",
   "metadata": {},
   "source": [
    "Note that in Jupyter Notebook you can return a value without formally printing it, like below"
   ]
  },
  {
   "cell_type": "code",
   "execution_count": null,
   "metadata": {},
   "outputs": [],
   "source": [
    "'Here is my second line of Python code!'"
   ]
  },
  {
   "cell_type": "markdown",
   "metadata": {},
   "source": [
    "We can also define variables as strings or integers, among many other things. Variables defined in one cell will persist across the notebook until you redefine them."
   ]
  },
  {
   "cell_type": "code",
   "execution_count": null,
   "metadata": {},
   "outputs": [],
   "source": [
    "a = 3\n",
    "print('Here is my first variable:', a)\n",
    "a = 5\n",
    "print('Now the variable has changed:', a)"
   ]
  },
  {
   "cell_type": "markdown",
   "metadata": {},
   "source": [
    "We'll be working with a few core packages throughout the course, which you can import as such below."
   ]
  },
  {
   "cell_type": "code",
   "execution_count": null,
   "metadata": {
    "collapsed": true
   },
   "outputs": [],
   "source": [
    "import random\n",
    "import numpy as np\n",
    "import pandas as pd\n",
    "import matplotlib.pyplot as plt\n",
    "import seaborn as sns\n",
    "%matplotlib inline"
   ]
  },
  {
   "cell_type": "markdown",
   "metadata": {},
   "source": [
    "The **random** and **numpy** packages will be most useful for the probability section of the course, while we will start using the **pandas** package next week for data exploration and the **matplotlib** and **seaborn** packages for data visualization.\n",
    "\n",
    "On the upper left, note that you can go to 'Download as' and download the notebook as an 'ipynb' file. When you submit your homework to me this week, please email me the ipynb file you downloaded.\n",
    "\n",
    "Also please note that you are not restricted to the workbooks that are in this repository! You can create a new workbook, import any of the above packages you need, and go from there."
   ]
  },
  {
   "cell_type": "markdown",
   "metadata": {},
   "source": [
    "## Using Binder\n",
    "\n",
    "I chose Binder for this course because it requires the least amount of setup - all you need to do is click a link and an interactive environment with everything you need will be loaded within seconds. That said - it certainly has its limitations:\n",
    "\n",
    "1) A notebook will only last 12 hours in total, and may timeout after 10 minutes of 'inactivity'. Binder is a playground to test around code with, but I would store any answers or anything you plan on submitting elsewhere while you're working on it. **SAVE OFTEN, BE OCD ABOUT HITTING CTRL + S**\n",
    "\n",
    "2) Binder has a limit of 1 - 2 GB of RAM for a given notebook. We should not come anything close to that since we'll be working on relatively small datasets, but it's something to keep in mind.\n",
    "\n",
    "3) If you want to work on something, save it, and work on it later, you can download your file and then upload it later on a new Binder instance. This is a bit primitive, but failsafe.\n",
    "\n",
    "While you can also download Python onto your machine (instructions will be in this week's homework) and work that way, I'm sure there will be issues that come up given the different types of machines and operating systems people have. Fundamentally you should be able to complete this course using just Binder."
   ]
  }
 ],
 "metadata": {
  "kernelspec": {
   "display_name": "Python 3",
   "language": "python",
   "name": "python3"
  },
  "language_info": {
   "codemirror_mode": {
    "name": "ipython",
    "version": 3
   },
   "file_extension": ".py",
   "mimetype": "text/x-python",
   "name": "python",
   "nbconvert_exporter": "python",
   "pygments_lexer": "ipython3",
   "version": "3.6.3"
  }
 },
 "nbformat": 4,
 "nbformat_minor": 2
}
